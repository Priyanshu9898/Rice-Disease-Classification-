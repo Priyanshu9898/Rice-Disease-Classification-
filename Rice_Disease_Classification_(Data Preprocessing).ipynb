{
 "cells": [
  {
   "cell_type": "code",
   "execution_count": 1,
   "id": "975c48ad",
   "metadata": {},
   "outputs": [],
   "source": [
    "import pandas as pd\n",
    "import numpy as np\n",
    "import seaborn as sns\n",
    "import matplotlib.pyplot as plt\n",
    "\n",
    "import tensorflow as tf\n",
    "import pathlib\n",
    "import os"
   ]
  },
  {
   "cell_type": "code",
   "execution_count": 2,
   "id": "ba9d9ada",
   "metadata": {},
   "outputs": [],
   "source": [
    "train = pd.read_csv('Train.csv')\n",
    "test = pd.read_csv('Test.csv')"
   ]
  },
  {
   "cell_type": "code",
   "execution_count": 3,
   "id": "bdb3dff5",
   "metadata": {},
   "outputs": [
    {
     "data": {
      "text/html": [
       "<div>\n",
       "<style scoped>\n",
       "    .dataframe tbody tr th:only-of-type {\n",
       "        vertical-align: middle;\n",
       "    }\n",
       "\n",
       "    .dataframe tbody tr th {\n",
       "        vertical-align: top;\n",
       "    }\n",
       "\n",
       "    .dataframe thead th {\n",
       "        text-align: right;\n",
       "    }\n",
       "</style>\n",
       "<table border=\"1\" class=\"dataframe\">\n",
       "  <thead>\n",
       "    <tr style=\"text-align: right;\">\n",
       "      <th></th>\n",
       "      <th>Image_id</th>\n",
       "      <th>Label</th>\n",
       "    </tr>\n",
       "  </thead>\n",
       "  <tbody>\n",
       "    <tr>\n",
       "      <th>0</th>\n",
       "      <td>id_004wknd7qd.jpg</td>\n",
       "      <td>blast</td>\n",
       "    </tr>\n",
       "    <tr>\n",
       "      <th>1</th>\n",
       "      <td>id_004wknd7qd_rgn.jpg</td>\n",
       "      <td>blast</td>\n",
       "    </tr>\n",
       "    <tr>\n",
       "      <th>2</th>\n",
       "      <td>id_005sitfgr2.jpg</td>\n",
       "      <td>brown</td>\n",
       "    </tr>\n",
       "    <tr>\n",
       "      <th>3</th>\n",
       "      <td>id_005sitfgr2_rgn.jpg</td>\n",
       "      <td>brown</td>\n",
       "    </tr>\n",
       "    <tr>\n",
       "      <th>4</th>\n",
       "      <td>id_00stp9t6m6.jpg</td>\n",
       "      <td>blast</td>\n",
       "    </tr>\n",
       "  </tbody>\n",
       "</table>\n",
       "</div>"
      ],
      "text/plain": [
       "                Image_id  Label\n",
       "0      id_004wknd7qd.jpg  blast\n",
       "1  id_004wknd7qd_rgn.jpg  blast\n",
       "2      id_005sitfgr2.jpg  brown\n",
       "3  id_005sitfgr2_rgn.jpg  brown\n",
       "4      id_00stp9t6m6.jpg  blast"
      ]
     },
     "execution_count": 3,
     "metadata": {},
     "output_type": "execute_result"
    }
   ],
   "source": [
    "train.head()"
   ]
  },
  {
   "cell_type": "code",
   "execution_count": 4,
   "id": "4b12eead",
   "metadata": {},
   "outputs": [
    {
     "data": {
      "text/plain": [
       "(5340, 2)"
      ]
     },
     "execution_count": 4,
     "metadata": {},
     "output_type": "execute_result"
    }
   ],
   "source": [
    "train.shape"
   ]
  },
  {
   "cell_type": "code",
   "execution_count": 4,
   "id": "86bf0eb3",
   "metadata": {},
   "outputs": [
    {
     "data": {
      "text/html": [
       "<div>\n",
       "<style scoped>\n",
       "    .dataframe tbody tr th:only-of-type {\n",
       "        vertical-align: middle;\n",
       "    }\n",
       "\n",
       "    .dataframe tbody tr th {\n",
       "        vertical-align: top;\n",
       "    }\n",
       "\n",
       "    .dataframe thead th {\n",
       "        text-align: right;\n",
       "    }\n",
       "</style>\n",
       "<table border=\"1\" class=\"dataframe\">\n",
       "  <thead>\n",
       "    <tr style=\"text-align: right;\">\n",
       "      <th></th>\n",
       "      <th>Image_id</th>\n",
       "    </tr>\n",
       "  </thead>\n",
       "  <tbody>\n",
       "    <tr>\n",
       "      <th>0</th>\n",
       "      <td>id_00vl5wvxq3.jpg</td>\n",
       "    </tr>\n",
       "    <tr>\n",
       "      <th>1</th>\n",
       "      <td>id_00vl5wvxq3_rgn.jpg</td>\n",
       "    </tr>\n",
       "    <tr>\n",
       "      <th>2</th>\n",
       "      <td>id_01hu05mtch.jpg</td>\n",
       "    </tr>\n",
       "    <tr>\n",
       "      <th>3</th>\n",
       "      <td>id_01hu05mtch_rgn.jpg</td>\n",
       "    </tr>\n",
       "    <tr>\n",
       "      <th>4</th>\n",
       "      <td>id_030ln10ewn.jpg</td>\n",
       "    </tr>\n",
       "  </tbody>\n",
       "</table>\n",
       "</div>"
      ],
      "text/plain": [
       "                Image_id\n",
       "0      id_00vl5wvxq3.jpg\n",
       "1  id_00vl5wvxq3_rgn.jpg\n",
       "2      id_01hu05mtch.jpg\n",
       "3  id_01hu05mtch_rgn.jpg\n",
       "4      id_030ln10ewn.jpg"
      ]
     },
     "execution_count": 4,
     "metadata": {},
     "output_type": "execute_result"
    }
   ],
   "source": [
    "test.head()"
   ]
  },
  {
   "cell_type": "code",
   "execution_count": 6,
   "id": "53b81cbb",
   "metadata": {},
   "outputs": [
    {
     "data": {
      "text/plain": [
       "(2290, 1)"
      ]
     },
     "execution_count": 6,
     "metadata": {},
     "output_type": "execute_result"
    }
   ],
   "source": [
    "test.shape"
   ]
  },
  {
   "cell_type": "code",
   "execution_count": 9,
   "id": "4ea8f8f1",
   "metadata": {},
   "outputs": [
    {
     "data": {
      "text/plain": [
       "blast      2988\n",
       "brown      1532\n",
       "healthy     820\n",
       "Name: Label, dtype: int64"
      ]
     },
     "execution_count": 9,
     "metadata": {},
     "output_type": "execute_result"
    }
   ],
   "source": [
    "train['Label'].value_counts()"
   ]
  },
  {
   "cell_type": "code",
   "execution_count": 14,
   "id": "6ef4e5c1",
   "metadata": {},
   "outputs": [],
   "source": [
    "src_train = \"\\Images\"\n",
    "dest_train_original = \"Images/\""
   ]
  },
  {
   "cell_type": "code",
   "execution_count": 5,
   "id": "5ae1af35",
   "metadata": {},
   "outputs": [
    {
     "data": {
      "text/plain": [
       "'C:\\\\Users\\\\priyanshu\\\\Downloads\\\\Research Project'"
      ]
     },
     "execution_count": 5,
     "metadata": {},
     "output_type": "execute_result"
    }
   ],
   "source": [
    "root_dir = os.getcwd()\n",
    "root_dir"
   ]
  },
  {
   "cell_type": "code",
   "execution_count": 6,
   "id": "8fcd6dc5",
   "metadata": {},
   "outputs": [
    {
     "data": {
      "text/plain": [
       "'brown'"
      ]
     },
     "execution_count": 6,
     "metadata": {},
     "output_type": "execute_result"
    }
   ],
   "source": [
    "def getLabel(image_id):\n",
    "    \n",
    "    label = train[train['Image_id'] == image_id]['Label']\n",
    "    \n",
    "    \n",
    "    \n",
    "    if(len(label) == 0):\n",
    "\n",
    "        return \"\"\n",
    "    else:\n",
    "        return label.values[0]\n",
    "\n",
    "\n",
    "\n",
    "getLabel(\"id_0e7wk9uzq3.jpg\")\n",
    "getLabel(\"id_0ch8257gec_rgn.jpg\")"
   ]
  },
  {
   "cell_type": "code",
   "execution_count": 7,
   "id": "6a65b2d5",
   "metadata": {},
   "outputs": [
    {
     "name": "stdout",
     "output_type": "stream",
     "text": [
      "C:\\Users\\priyanshu\\Downloads\\Research Project\\Images\\id_zyoowbqcm3_rgn.jpg\n",
      "C:\\Users\\priyanshu\\Downloads\\Research Project\\Dataset\n"
     ]
    }
   ],
   "source": [
    "src_dir = os.getcwd() + \"\\\\Images\" + \"\\\\id_zyoowbqcm3_rgn.jpg\"\n",
    "print(src_dir)\n",
    "dst_dir = os.getcwd() + \"\\\\Dataset\"\n",
    "print(dst_dir)\n",
    "# for jpgfile in glob.iglob(os.path.join(src_dir, \"*.jpg\")):\n",
    "# shutil.copy(src_dir, dst_dir)"
   ]
  },
  {
   "cell_type": "code",
   "execution_count": 168,
   "id": "04f50050",
   "metadata": {},
   "outputs": [],
   "source": [
    "def copy_on_original(image_id, label):\n",
    "    src_dir = os.getcwd() + \"\\\\Images\\\\\" + image_id\n",
    "\n",
    "    dst_dir = os.getcwd() + \"\\\\Dataset\" + \"\\\\Train_Dataset_Original\\\\\" + label\n",
    "\n",
    "    shutil.copy(src_dir, dst_dir)\n",
    "    \n",
    "# copy_on_original(\"id_zyoowbqcm3_rgn.jpg\", \"healthy\")"
   ]
  },
  {
   "cell_type": "code",
   "execution_count": 169,
   "id": "8d78b29e",
   "metadata": {},
   "outputs": [],
   "source": [
    "def copy_on_RGN(image_id, label):\n",
    "    src_dir = os.getcwd() + \"\\\\Images\\\\\" + image_id\n",
    "\n",
    "    dst_dir = os.getcwd() + \"\\\\Dataset\" + \"\\\\Train_Dataset_RGN\\\\\" + label\n",
    "    \n",
    "    shutil.copy(src_dir, dst_dir)\n"
   ]
  },
  {
   "cell_type": "code",
   "execution_count": 170,
   "id": "aac71e39",
   "metadata": {},
   "outputs": [],
   "source": [
    "def copy_in_test_rgn(image_id, label):\n",
    "    src_dir = os.getcwd() + \"\\\\Images\\\\\" + image_id\n",
    "\n",
    "    dst_dir = os.getcwd() + \"\\\\Dataset\" + \"\\\\Test_RGN\"\n",
    "    \n",
    "    shutil.copy(src_dir, dst_dir)"
   ]
  },
  {
   "cell_type": "code",
   "execution_count": 171,
   "id": "a9ac5812",
   "metadata": {},
   "outputs": [],
   "source": [
    "def copy_in_test_original(image_id, label):\n",
    "    src_dir = os.getcwd() + \"\\\\Images\\\\\" + image_id\n",
    "\n",
    "    dst_dir = os.getcwd() + \"\\\\Dataset\" + \"\\\\Test_Original\"\n",
    "    \n",
    "    shutil.copy(src_dir, dst_dir)"
   ]
  },
  {
   "cell_type": "code",
   "execution_count": 172,
   "id": "86817f71",
   "metadata": {},
   "outputs": [],
   "source": [
    "\n",
    "\n",
    "\n",
    "\n",
    "# Creating a perfect set of images using the csv file\n",
    "import glob\n",
    "import shutil\n",
    "import os\n",
    "\n",
    "for filepath in glob.glob(root_dir + \"\\Images\\*.jpg\", recursive=True):\n",
    "    filepath = filepath.split(\"\\\\\")\n",
    "#     print(filepath[-1])\n",
    "    \n",
    "    label = getLabel(filepath[-1])\n",
    "#     print(label)\n",
    "    \n",
    "    if(len(label) > 0):\n",
    "        if(\"_rgn\" in filepath[-1]):\n",
    "            copy_on_RGN(filepath[-1] , label)\n",
    "        else:\n",
    "            copy_on_original(filepath[-1] , label)\n",
    "    else:\n",
    "        if(\"_rgn\" in filepath[-1]):\n",
    "            copy_in_test_rgn(filepath[-1] , label)\n",
    "        else:\n",
    "            copy_in_test_original(filepath[-1] , label)\n",
    "    "
   ]
  },
  {
   "cell_type": "code",
   "execution_count": null,
   "id": "fd6238f6",
   "metadata": {},
   "outputs": [],
   "source": []
  },
  {
   "cell_type": "code",
   "execution_count": null,
   "id": "7cf29c2a",
   "metadata": {},
   "outputs": [],
   "source": []
  }
 ],
 "metadata": {
  "kernelspec": {
   "display_name": "Python 3 (ipykernel)",
   "language": "python",
   "name": "python3"
  },
  "language_info": {
   "codemirror_mode": {
    "name": "ipython",
    "version": 3
   },
   "file_extension": ".py",
   "mimetype": "text/x-python",
   "name": "python",
   "nbconvert_exporter": "python",
   "pygments_lexer": "ipython3",
   "version": "3.10.5"
  }
 },
 "nbformat": 4,
 "nbformat_minor": 5
}

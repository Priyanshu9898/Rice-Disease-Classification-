{
 "cells": [
  {
   "cell_type": "code",
   "execution_count": 1,
   "id": "4701f5af",
   "metadata": {},
   "outputs": [],
   "source": [
    "import pandas as pd\n",
    "import numpy as np\n",
    "import matplotlib.pyplot as plt\n",
    "import seaborn as sns\n",
    "\n",
    "import tensorflow as tf\n",
    "from tensorflow import keras\n",
    "from tensorflow.keras.models import Sequential\n",
    "from tensorflow.keras.layers import Dense,Conv2D, Flatten, Dropout\n",
    "from tensorflow.keras.preprocessing.image import ImageDataGenerator\n",
    "from keras.layers import MaxPooling2D"
   ]
  },
  {
   "cell_type": "code",
   "execution_count": null,
   "id": "26660bc7",
   "metadata": {},
   "outputs": [],
   "source": []
  },
  {
   "cell_type": "code",
   "execution_count": 3,
   "id": "7d3d66fa",
   "metadata": {},
   "outputs": [],
   "source": [
    "# pip install keras-tuner"
   ]
  },
  {
   "cell_type": "code",
   "execution_count": null,
   "id": "ad973972",
   "metadata": {},
   "outputs": [],
   "source": [
    "# def build_model(hp):  \n",
    "#   model = keras.Sequential([\n",
    "#     keras.layers.Conv2D(\n",
    "#         filters = hp.Int('conv_1_filter', min_value = 32, max_value = 512, step = 16),\n",
    "#         kernel_size=hp.Choice('conv_1_kernel', values = [3,5]),\n",
    "#         activation = hp.choice('activation'  , values = ['relu', 'sigmoid', 'tanh']),\n",
    "#         input_shape = (256 , 256, 3)\n",
    "#     ),\n",
    "#     keras.layers.Conv2D(\n",
    "#         filters=hp.Int('conv_2_filter', min_value = 32, max_value = 512, step = 8 ),\n",
    "#         kernel_size = hp.Choice('conv_2_kernel', values = [3,5]),\n",
    "#         activation = hp.choice('activation' , values = ['relu', 'sigmoid', 'tanh']),\n",
    "#     ),\n",
    "#     keras.layers.Flatten(),\n",
    "#     keras.layers.Dense(\n",
    "#         units = hp.Int('dense_1_units', min_value = 32, max_value= 512, step = 8 ),\n",
    "#         activation = hp.choice('activation' , values = ['relu', 'sigmoid', 'tanh']),\n",
    "#     ),\n",
    "#     keras.layers.Dense(3 , activation='softmax')\n",
    "#   ])\n",
    "  \n",
    "#   model.compile(optimizer=keras.optimizers.Adam(hp.Choice('learning_rate', values=[1e-2, 1e-3])),\n",
    "#               loss='sparse_categorical_crossentropy',\n",
    "#               metrics=['accuracy'])\n",
    "  \n",
    "#   return model"
   ]
  },
  {
   "cell_type": "code",
   "execution_count": null,
   "id": "c8732287",
   "metadata": {},
   "outputs": [],
   "source": [
    "# def build_model(hp):  \n",
    "#   model = keras.Sequential([\n",
    "#     keras.layers.Conv2D(\n",
    "#         filters=hp.Int('conv_1_filter', min_value=32, max_value=128, step=16),\n",
    "#         kernel_size=hp.Choice('conv_1_kernel', values = [3,5]),\n",
    "#         activation='relu',\n",
    "#         input_shape=(256,256, 3)\n",
    "#     ),\n",
    "#     keras.layers.Conv2D(\n",
    "#         filters=hp.Int('conv_2_filter', min_value=32, max_value=64, step=16),\n",
    "#         kernel_size=hp.Choice('conv_2_kernel', values = [3,5]),\n",
    "#         activation='relu'\n",
    "#     ),\n",
    "#     keras.layers.Flatten(),\n",
    "#     keras.layers.Dense(\n",
    "#         units=hp.Int('dense_1_units', min_value=32, max_value=128, step=16),\n",
    "#         activation='relu'\n",
    "#     ),\n",
    "#     keras.layers.Dense(10, activation='softmax')\n",
    "#   ])\n",
    "  \n",
    "#   model.compile(optimizer=keras.optimizers.Adam(hp.Choice('learning_rate', values=[1e-2, 1e-3])),\n",
    "#               loss='sparse_categorical_crossentropy',\n",
    "#               metrics=['accuracy'])\n",
    "  \n",
    "#   return model"
   ]
  },
  {
   "cell_type": "code",
   "execution_count": 2,
   "id": "c330b649",
   "metadata": {},
   "outputs": [],
   "source": [
    "train_generator = ImageDataGenerator(\n",
    "        rescale = 1./255,\n",
    "        rotation_range=10,\n",
    "        horizontal_flip=True\n",
    "    \n",
    ")"
   ]
  },
  {
   "cell_type": "code",
   "execution_count": 3,
   "id": "384be37d",
   "metadata": {},
   "outputs": [
    {
     "name": "stdout",
     "output_type": "stream",
     "text": [
      "Found 2402 images belonging to 3 classes.\n"
     ]
    }
   ],
   "source": [
    "train_data = train_generator.flow_from_directory(\n",
    "        \"Dataset/Original/train\",\n",
    "        target_size=(256, 256),\n",
    "        class_mode=\"sparse\",\n",
    "       \n",
    ")"
   ]
  },
  {
   "cell_type": "code",
   "execution_count": 4,
   "id": "8d1b1327",
   "metadata": {},
   "outputs": [
    {
     "data": {
      "text/plain": [
       "{'blast': 0, 'brown': 1, 'healthy': 2}"
      ]
     },
     "execution_count": 4,
     "metadata": {},
     "output_type": "execute_result"
    }
   ],
   "source": [
    "train_data.class_indices"
   ]
  },
  {
   "cell_type": "code",
   "execution_count": 5,
   "id": "d2ce0629",
   "metadata": {},
   "outputs": [
    {
     "data": {
      "text/plain": [
       "['blast', 'brown', 'healthy']"
      ]
     },
     "execution_count": 5,
     "metadata": {},
     "output_type": "execute_result"
    }
   ],
   "source": [
    "class_names = list(train_data.class_indices.keys())\n",
    "class_names "
   ]
  },
  {
   "cell_type": "code",
   "execution_count": 6,
   "id": "3dd23cb5",
   "metadata": {},
   "outputs": [],
   "source": [
    "val_generator = ImageDataGenerator(\n",
    "        rescale = 1./255,\n",
    "        rotation_range=10,\n",
    "        horizontal_flip=True\n",
    "    \n",
    ")"
   ]
  },
  {
   "cell_type": "code",
   "execution_count": 7,
   "id": "2bf49dac",
   "metadata": {},
   "outputs": [
    {
     "name": "stdout",
     "output_type": "stream",
     "text": [
      "Found 268 images belonging to 3 classes.\n"
     ]
    }
   ],
   "source": [
    "val_data = val_generator.flow_from_directory(\n",
    "        \"Dataset/Original/val\",\n",
    "        target_size=(256, 256),\n",
    "        class_mode=\"sparse\",\n",
    "       \n",
    ")"
   ]
  },
  {
   "cell_type": "code",
   "execution_count": 8,
   "id": "5cb25590",
   "metadata": {},
   "outputs": [
    {
     "data": {
      "text/plain": [
       "keras.preprocessing.image.DirectoryIterator"
      ]
     },
     "execution_count": 8,
     "metadata": {},
     "output_type": "execute_result"
    }
   ],
   "source": [
    "type(train_data)"
   ]
  },
  {
   "cell_type": "code",
   "execution_count": 9,
   "id": "711511f7",
   "metadata": {},
   "outputs": [
    {
     "data": {
      "text/plain": [
       "76"
      ]
     },
     "execution_count": 9,
     "metadata": {},
     "output_type": "execute_result"
    }
   ],
   "source": [
    "len(train_data)"
   ]
  },
  {
   "cell_type": "code",
   "execution_count": 10,
   "id": "f8d61539",
   "metadata": {},
   "outputs": [],
   "source": [
    "def build_model(hp):\n",
    "\n",
    "    model = Sequential()\n",
    "    \n",
    "    counter = 0\n",
    "    \n",
    "    for i in range(hp.Int('num_layers', min_value = 1 , max_value = 10 )):\n",
    "        \n",
    "        if(counter == 0):\n",
    "        \n",
    "            model.add(Conv2D(filters = hp.Int('conv_filter'+str(i), min_value = 32 , max_value = 512, step = 32) , kernel_size=  hp.Choice('conv_kernel'+str(i), values = [3,5]) , activation = hp.Choice('activation'+str(i) , values = ['relu', 'tanh']), input_shape = ( 256 , 256, 3), padding= hp.Choice('Padding'+str(i), values= ['same', 'valid']) ))\n",
    "            model.add(MaxPooling2D(pool_size = hp.Choice('MaxPooling'+str(i) , values = [2, 3]) ))\n",
    "\n",
    "            model.add(Dropout(hp.Choice('Dropout'+str(i), values = [0.1, 0.2, 0.3, 0.4 , 0.5, 0.6, 0.7, 0.8, 0.9])))\n",
    "            \n",
    "        else:\n",
    "            model.add(Conv2D(filters = hp.Int('conv_filter'+str(i), min_value = 32 , max_value = 512, step = 32) , kernel_size=  hp.Choice('conv_1_kernel'+str(i), values = [3,5]) , activation = hp.Choice('activation'+str(i) , values = ['relu', 'tanh']), input_shape = ( 256 , 256, 3),  padding= hp.Choice('Padding'+str(i), values= ['same', 'valid']) ))\n",
    "            model.add(MaxPooling2D(pool_size = hp.Choice('MaxPooling'+str(i) , values = [2, 3]) ))\n",
    "\n",
    "            model.add(Dropout(hp.Choice('Dropout'+str(i), values = [0.1, 0.2, 0.3, 0.4 , 0.5, 0.6, 0.7, 0.8, 0.9])))\n",
    "\n",
    "        counter += 1\n",
    "\n",
    "    model.add(Flatten())\n",
    "    \n",
    "    model.add(Dense(units = hp.Int('dense_1_units', min_value = 32, max_value= 512, step = 8 ),\n",
    "        activation = hp.Choice('activation' , values = ['relu', 'tanh'])))\n",
    "    \n",
    "    model.add(Dense(3 , activation=\"softmax\"))\n",
    "\n",
    "    model.compile(optimizer= hp.Choice('optimizer', values = ['adam', 'adadelta', 'rmsprop', 'sgd', 'adagrad']) , loss= \"sparse_categorical_crossentropy\", metrics=['accuracy'])\n",
    "\n",
    "    return model"
   ]
  },
  {
   "cell_type": "code",
   "execution_count": 11,
   "id": "58663ba3",
   "metadata": {},
   "outputs": [],
   "source": [
    "import keras_tuner as kt\n",
    "from keras_tuner import RandomSearch\n",
    "from keras_tuner.engine.hyperparameters import HyperParameters"
   ]
  },
  {
   "cell_type": "code",
   "execution_count": 12,
   "id": "5eb75fc2",
   "metadata": {},
   "outputs": [],
   "source": [
    "tuner = RandomSearch(build_model,\n",
    "                          objective='val_accuracy',\n",
    "                          max_trials = 7 , directory='output', project_name=\"Rice Disease Classification3\")"
   ]
  },
  {
   "cell_type": "code",
   "execution_count": null,
   "id": "333cb7d5",
   "metadata": {},
   "outputs": [
    {
     "name": "stdout",
     "output_type": "stream",
     "text": [
      "\n",
      "Search: Running Trial #1\n",
      "\n",
      "Value             |Best Value So Far |Hyperparameter\n",
      "2                 |?                 |num_layers\n",
      "384               |?                 |conv_filter0\n",
      "3                 |?                 |conv_kernel0\n",
      "tanh              |?                 |activation0\n",
      "same              |?                 |Padding0\n",
      "2                 |?                 |MaxPooling0\n",
      "0.2               |?                 |Dropout0\n",
      "344               |?                 |dense_1_units\n",
      "relu              |?                 |activation\n",
      "adadelta          |?                 |optimizer\n",
      "\n",
      "Epoch 1/5\n"
     ]
    }
   ],
   "source": [
    "tuner.search(train_data , epochs = 5, validation_data = val_data)"
   ]
  },
  {
   "cell_type": "code",
   "execution_count": null,
   "id": "145fb332",
   "metadata": {},
   "outputs": [],
   "source": [
    "tuner.get_best_hyperparameters()[0].values"
   ]
  },
  {
   "cell_type": "code",
   "execution_count": null,
   "id": "8da625c0",
   "metadata": {},
   "outputs": [],
   "source": [
    "model = tuner.get_best_models(num_models= 1)[0]"
   ]
  },
  {
   "cell_type": "code",
   "execution_count": null,
   "id": "0f51bf61",
   "metadata": {},
   "outputs": [],
   "source": [
    "model.fit(train_data , validation_data = val_data , epochs = 200 )"
   ]
  },
  {
   "cell_type": "code",
   "execution_count": null,
   "id": "f72234da",
   "metadata": {},
   "outputs": [],
   "source": [
    "model.history()"
   ]
  },
  {
   "cell_type": "code",
   "execution_count": null,
   "id": "ad8ae1b6",
   "metadata": {},
   "outputs": [],
   "source": []
  },
  {
   "cell_type": "code",
   "execution_count": null,
   "id": "b0c32c2c",
   "metadata": {},
   "outputs": [],
   "source": []
  }
 ],
 "metadata": {
  "kernelspec": {
   "display_name": "Python 3 (ipykernel)",
   "language": "python",
   "name": "python3"
  },
  "language_info": {
   "codemirror_mode": {
    "name": "ipython",
    "version": 3
   },
   "file_extension": ".py",
   "mimetype": "text/x-python",
   "name": "python",
   "nbconvert_exporter": "python",
   "pygments_lexer": "ipython3",
   "version": "3.10.5"
  }
 },
 "nbformat": 4,
 "nbformat_minor": 5
}
